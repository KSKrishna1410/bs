{
 "cells": [
  {
   "cell_type": "code",
   "execution_count": 1,
   "id": "be1d58d1",
   "metadata": {},
   "outputs": [
    {
     "name": "stdout",
     "output_type": "stream",
     "text": [
      "                  BANK         IFSC                         BRANCH  \\\n",
      "0  STATE BANK OF INDIA  SBIN0063986                    RASMEC GAYA   \n",
      "1  STATE BANK OF INDIA  SBIN0063997        SECTOR-FORTY FOUR,NOIDA   \n",
      "2  STATE BANK OF INDIA  SBIN0064003    NOIDA EXTENSION, G.B. NAGAR   \n",
      "3  STATE BANK OF INDIA  SBIN0064004  MEDICAL COLLEGE BRANCH, BASTI   \n",
      "4  STATE BANK OF INDIA  SBIN0064006                      MAMBAKKAM   \n",
      "\n",
      "                                             ADDRESS      CITY1      CITY2  \\\n",
      "0  NEERAJ BHAWAN,IN FRONT OF DAYAL PETROL PUMP,GE...     RAMPUR     RAMPUR   \n",
      "1  SECTOR-44,NOIDA B-132,SECTOR-44,NOIDA,PIN CODE...      NOIDA      NOIDA   \n",
      "2               NS-07,SECTOR ALPHA 2,GR NOIDA-201308  GR. NOIDA  GR. NOIDA   \n",
      "3  STATE BANK OF INDIA,MAHARSHI VASHISHITH AUTONO...      BASTI      BASTI   \n",
      "4  SBIOA UNITY ENCLAVE,COMMERCIAL COMPLEX,1ST FLO...    CHENNAI    CHENNAI   \n",
      "\n",
      "           STATE  STD CODE         PHONE  \n",
      "0          BIHAR       NaN  9.470489e+09  \n",
      "1  UTTAR PRADESH       NaN  9.720087e+09  \n",
      "2  UTTAR PRADESH       NaN  9.310375e+09  \n",
      "3  UTTAR PRADESH       NaN  8.467946e+09  \n",
      "4     TAMIL NADU       NaN  9.489939e+09  \n"
     ]
    }
   ],
   "source": [
    "import pandas as pd\n",
    "\n",
    "df = pd.read_csv(\"IFSC_master.csv\")\n",
    "\n",
    "print(df.head())"
   ]
  },
  {
   "cell_type": "code",
   "execution_count": 2,
   "id": "5d8b98f8",
   "metadata": {},
   "outputs": [
    {
     "data": {
      "text/plain": [
       "Index(['BANK', 'IFSC', 'BRANCH', 'ADDRESS', 'CITY1', 'CITY2', 'STATE',\n",
       "       'STD CODE', 'PHONE'],\n",
       "      dtype='object')"
      ]
     },
     "execution_count": 2,
     "metadata": {},
     "output_type": "execute_result"
    }
   ],
   "source": [
    "df.columns"
   ]
  },
  {
   "cell_type": "code",
   "execution_count": 1,
   "id": "51a2874a",
   "metadata": {},
   "outputs": [
    {
     "name": "stdout",
     "output_type": "stream",
     "text": [
      "--- Page 1 ---\n",
      "Account Number:\n",
      "From 29/07/2024 To 29/08/202\n",
      "54440 17044 80\n",
      "4\n",
      "Transaction date:\n",
      "Description\n",
      "Type\n",
      "Amount\n",
      "D ate\n",
      "UPl/bharatpe9072812/Pay to\n",
      "DR\n",
      "29-0 8-2 024\n",
      "30.00\n",
      "BharatPe/YesBank Yespay/46084\n",
      "79 23 7 58 /IC l0c e0 a f07 4 4c f4 3b 59 3 0c\n",
      "75a5b3cd8f49/\n",
      "DR\n",
      "28-08-2024\n",
      "UPI/q637244880@ybl/UPI/Yes\n",
      "Ban k\n",
      "60.00\n",
      "Ltd /4 24 17 98 1 84 33 /IC l18 d5 f7 a7 31 8\n",
      "c46219a77d32345cb6f98/\n",
      "DR\n",
      "28-08-2024\n",
      "UPI/paytmqr597145@p/UPI/Yes\n",
      "B a nk\n",
      "Ltd/460744714748/IClbc59d78b70\n",
      "160.00\n",
      "de44d599a79b158ae7d2e9/\n",
      "28-08-2024\n",
      "UPI/paytmqr1eyz69vs/UPI/Yes\n",
      "B a nk\n",
      "DR\n",
      "1 L\n",
      "80.00\n",
      "Ltd/424112709028/ICl4e73b81e55\n",
      "b142d486d8ddcc320b8462/\n",
      "UPI/karthik191186-1/UPI/Axis Bank\n",
      "DR\n",
      "28-08-2024\n",
      "50.00\n",
      "Ltd/460776202338/ICI251129f2827\n",
      "c4a cc8 2 d2 2a eb d1 1e 9 64 0/\n",
      "28-08-2024\n",
      "UPVq145147584@ybl/UPI/Yes\n",
      "B a nk\n",
      "DR\n",
      "50.00\n",
      "Ltd/424137708456/ICl4f481e4edbf\n",
      "24e09854b0a21788e7215/\n",
      "DR\n",
      "UPI/q055856556@ybl/UPI/Yes\n",
      "Bank\n",
      "28-08-2024\n",
      "60.00\n",
      "Ltd/424167016105/ICla61a375805\n",
      "6a4328afa9f7976f1375f5/\n",
      "This is a system-generated statement. Hence,it does not require any signature.\n",
      "Page 1\n",
      "\n"
     ]
    }
   ],
   "source": [
    "import fitz  # PyMuPDF\n",
    "\n",
    "# Load the PDF\n",
    "doc = fitz.open(\"/Users/saikrishnakompelly/Desktop/glbyte_bs/BankStatements SK2/Bank Statement - ICICI BANK.pdf\")\n",
    "\n",
    "# Loop through pages and extract text\n",
    "for page_num in range(len(doc)):\n",
    "    page = doc[page_num]\n",
    "    text = page.get_text()\n",
    "    print(f\"--- Page {page_num + 1} ---\")\n",
    "    print(text)\n"
   ]
  },
  {
   "cell_type": "code",
   "execution_count": null,
   "id": "97fcac2b",
   "metadata": {},
   "outputs": [],
   "source": []
  }
 ],
 "metadata": {
  "kernelspec": {
   "display_name": "venv-v5",
   "language": "python",
   "name": "python3"
  },
  "language_info": {
   "codemirror_mode": {
    "name": "ipython",
    "version": 3
   },
   "file_extension": ".py",
   "mimetype": "text/x-python",
   "name": "python",
   "nbconvert_exporter": "python",
   "pygments_lexer": "ipython3",
   "version": "3.11.1"
  }
 },
 "nbformat": 4,
 "nbformat_minor": 5
}
