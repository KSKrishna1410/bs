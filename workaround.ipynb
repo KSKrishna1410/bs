{
 "cells": [
  {
   "cell_type": "code",
   "execution_count": 1,
   "id": "be1d58d1",
   "metadata": {},
   "outputs": [
    {
     "name": "stdout",
     "output_type": "stream",
     "text": [
      "  Country Code         BANK         IFSC  \\\n",
      "0           IN  CANARA BANK  CNRB0000002   \n",
      "1           IN  CANARA BANK  CNRB0000003   \n",
      "2           IN  CANARA BANK  CNRB0000004   \n",
      "3           IN  CANARA BANK  CNRB0000005   \n",
      "4           IN  CANARA BANK  CNRB0000007   \n",
      "\n",
      "                                      BRANCH  \\\n",
      "0             CMD SECRETARIAT ,HO, BANGALORE   \n",
      "1       COMPLIANCE DEPARTMENT ,HO, BANGALORE   \n",
      "2        CORPORATE CREDIT WING,HO, BANGALORE   \n",
      "3  CREDIT ADMINISTRATION WING ,HO, BANGALORE   \n",
      "4                     DIT WING,HO, BANGALORE   \n",
      "\n",
      "                                             ADDRESS      CITY1  \\\n",
      "0  CANARA BANK,   112, J.C.ROAD, HEAD OFFICE, BAN...  BANGALORE   \n",
      "1  CANARA BANK,   112, J.C.ROAD, HEAD OFFICE, BAN...  BANGALORE   \n",
      "2  CANARA BANK, 112, J.C.ROAD, HEAD OFFICE, BANGA...  BANGALORE   \n",
      "3  CANARA BANK,   112, J.C.ROAD, HEAD OFFICE, BAN...  BANGALORE   \n",
      "4  CANARA BANK,   14, NAVEEN COMPLEX, M G ROAD, H...  BANGALORE   \n",
      "\n",
      "             CITY2      STATE  STD CODE         PHONE MICR Bank Short Code  \\\n",
      "0  BANGALORE URBAN  KARNATAKA       NaN           NaN                 CNRB   \n",
      "1  BANGALORE URBAN  KARNATAKA       NaN           NaN                 CNRB   \n",
      "2  BANGALORE URBAN  KARNATAKA      91.0  1.234568e+09                 CNRB   \n",
      "3  BANGALORE URBAN  KARNATAKA       NaN           NaN                 CNRB   \n",
      "4  BANGALORE URBAN  KARNATAKA       NaN           NaN                 CNRB   \n",
      "\n",
      "  Branch Number  A/c Length (Min)  A/c Length (Min).1  \n",
      "0        000002                13                  13  \n",
      "1        000003                13                  13  \n",
      "2        000004                13                  13  \n",
      "3        000005                13                  13  \n",
      "4        000007                13                  13  \n"
     ]
    }
   ],
   "source": [
    "import pandas as pd\n",
    "\n",
    "df = pd.read_csv(\"IFSC_master.csv\")\n",
    "\n",
    "print(df.head())"
   ]
  },
  {
   "cell_type": "code",
   "execution_count": 2,
   "id": "c32cd788",
   "metadata": {},
   "outputs": [
    {
     "data": {
      "text/plain": [
       "Index(['Country Code', 'BANK', 'IFSC', 'BRANCH', 'ADDRESS', 'CITY1', 'CITY2',\n",
       "       'STATE', 'STD CODE', 'PHONE', 'MICR', 'Bank Short Code',\n",
       "       'Branch Number', 'A/c Length (Min)', 'A/c Length (Min).1'],\n",
       "      dtype='object')"
      ]
     },
     "execution_count": 2,
     "metadata": {},
     "output_type": "execute_result"
    }
   ],
   "source": [
    "df.columns"
   ]
  },
  {
   "cell_type": "code",
   "execution_count": 2,
   "id": "5d8b98f8",
   "metadata": {},
   "outputs": [
    {
     "data": {
      "text/plain": [
       "Index(['BANK', 'IFSC', 'BRANCH', 'ADDRESS', 'CITY1', 'CITY2', 'STATE',\n",
       "       'STD CODE', 'PHONE'],\n",
       "      dtype='object')"
      ]
     },
     "execution_count": 2,
     "metadata": {},
     "output_type": "execute_result"
    }
   ],
   "source": [
    "df.columns"
   ]
  },
  {
   "cell_type": "code",
   "execution_count": 7,
   "id": "f28e1663",
   "metadata": {},
   "outputs": [
    {
     "data": {
      "text/plain": [
       "Index(['Country Code', 'BANK', 'IFSC', 'BRANCH', 'ADDRESS', 'CITY1', 'CITY2',\n",
       "       'STATE', 'STD CODE', 'PHONE', 'MICR', 'Bank Short Code',\n",
       "       'Branch Number', 'A/c Length (Min)', 'A/c Length (Min).1'],\n",
       "      dtype='object')"
      ]
     },
     "execution_count": 7,
     "metadata": {},
     "output_type": "execute_result"
    }
   ],
   "source": [
    "df2 = pd.read_csv(\"IFSC Codes with Account Number Length SK.csv\")\n",
    "df2.columns"
   ]
  },
  {
   "cell_type": "code",
   "execution_count": 1,
   "id": "51a2874a",
   "metadata": {},
   "outputs": [
    {
     "name": "stdout",
     "output_type": "stream",
     "text": [
      "--- Page 1 ---\n",
      "Account Number:\n",
      "From 29/07/2024 To 29/08/202\n",
      "54440 17044 80\n",
      "4\n",
      "Transaction date:\n",
      "Description\n",
      "Type\n",
      "Amount\n",
      "D ate\n",
      "UPl/bharatpe9072812/Pay to\n",
      "DR\n",
      "29-0 8-2 024\n",
      "30.00\n",
      "BharatPe/YesBank Yespay/46084\n",
      "79 23 7 58 /IC l0c e0 a f07 4 4c f4 3b 59 3 0c\n",
      "75a5b3cd8f49/\n",
      "DR\n",
      "28-08-2024\n",
      "UPI/q637244880@ybl/UPI/Yes\n",
      "Ban k\n",
      "60.00\n",
      "Ltd /4 24 17 98 1 84 33 /IC l18 d5 f7 a7 31 8\n",
      "c46219a77d32345cb6f98/\n",
      "DR\n",
      "28-08-2024\n",
      "UPI/paytmqr597145@p/UPI/Yes\n",
      "B a nk\n",
      "Ltd/460744714748/IClbc59d78b70\n",
      "160.00\n",
      "de44d599a79b158ae7d2e9/\n",
      "28-08-2024\n",
      "UPI/paytmqr1eyz69vs/UPI/Yes\n",
      "B a nk\n",
      "DR\n",
      "1 L\n",
      "80.00\n",
      "Ltd/424112709028/ICl4e73b81e55\n",
      "b142d486d8ddcc320b8462/\n",
      "UPI/karthik191186-1/UPI/Axis Bank\n",
      "DR\n",
      "28-08-2024\n",
      "50.00\n",
      "Ltd/460776202338/ICI251129f2827\n",
      "c4a cc8 2 d2 2a eb d1 1e 9 64 0/\n",
      "28-08-2024\n",
      "UPVq145147584@ybl/UPI/Yes\n",
      "B a nk\n",
      "DR\n",
      "50.00\n",
      "Ltd/424137708456/ICl4f481e4edbf\n",
      "24e09854b0a21788e7215/\n",
      "DR\n",
      "UPI/q055856556@ybl/UPI/Yes\n",
      "Bank\n",
      "28-08-2024\n",
      "60.00\n",
      "Ltd/424167016105/ICla61a375805\n",
      "6a4328afa9f7976f1375f5/\n",
      "This is a system-generated statement. Hence,it does not require any signature.\n",
      "Page 1\n",
      "\n"
     ]
    }
   ],
   "source": [
    "import fitz  # PyMuPDF\n",
    "\n",
    "# Load the PDF\n",
    "doc = fitz.open(\"/Users/saikrishnakompelly/Desktop/glbyte_bs/BankStatements SK2/Bank Statement - ICICI BANK.pdf\")\n",
    "\n",
    "# Loop through pages and extract text\n",
    "for page_num in range(len(doc)):\n",
    "    page = doc[page_num]\n",
    "    text = page.get_text()\n",
    "    print(f\"--- Page {page_num + 1} ---\")\n",
    "    print(text)\n"
   ]
  },
  {
   "cell_type": "code",
   "execution_count": null,
   "id": "97fcac2b",
   "metadata": {},
   "outputs": [],
   "source": []
  }
 ],
 "metadata": {
  "kernelspec": {
   "display_name": "venv-v5",
   "language": "python",
   "name": "python3"
  },
  "language_info": {
   "codemirror_mode": {
    "name": "ipython",
    "version": 3
   },
   "file_extension": ".py",
   "mimetype": "text/x-python",
   "name": "python",
   "nbconvert_exporter": "python",
   "pygments_lexer": "ipython3",
   "version": "3.11.1"
  }
 },
 "nbformat": 4,
 "nbformat_minor": 5
}
